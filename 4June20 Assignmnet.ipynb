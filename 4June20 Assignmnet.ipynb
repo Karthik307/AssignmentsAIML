{
 "cells": [
  {
   "cell_type": "markdown",
   "metadata": {},
   "source": [
    "## Assignment 4June2020"
   ]
  },
  {
   "cell_type": "code",
   "execution_count": 12,
   "metadata": {},
   "outputs": [
    {
     "data": {
      "text/plain": [
       "array([37, 36, 35, 34, 33, 32, 31, 30, 29, 28, 27, 26, 25, 24, 23, 22, 21,\n",
       "       20, 19, 18, 17, 16, 15, 14, 13, 12])"
      ]
     },
     "execution_count": 12,
     "metadata": {},
     "output_type": "execute_result"
    }
   ],
   "source": [
    "#1.Write a NumPy program to reverse an array (first element becomes last). \n",
    "import numpy as z\n",
    "aq=z.array([12,13,14,15,16,17,18,19,20,21,22,23,24,25,26,27,28,29,30,31,32,33,34,35,36,37])\n",
    "aq[::-1]"
   ]
  },
  {
   "cell_type": "code",
   "execution_count": 24,
   "metadata": {},
   "outputs": [
    {
     "name": "stdout",
     "output_type": "stream",
     "text": [
      "Enter number of columns 4\n",
      "Enter number of rows 5\n",
      "Original Matrix \n",
      "[[1. 1. 1. 1. 1.]\n",
      " [1. 1. 1. 1. 1.]\n",
      " [1. 1. 1. 1. 1.]\n",
      " [1. 1. 1. 1. 1.]]\n",
      "Modified Matrix \n",
      "[[1. 1. 1. 1. 1.]\n",
      " [1. 0. 0. 0. 1.]\n",
      " [1. 0. 0. 0. 1.]\n",
      " [1. 1. 1. 1. 1.]]\n"
     ]
    }
   ],
   "source": [
    "#2.Write a NumPy program to create a 2d array with 1 on the border and 0 inside. \n",
    "import numpy as x\n",
    "n1=int(input(\"Enter number of columns \"))\n",
    "n2=int(input(\"Enter number of rows \"))\n",
    "aw=x.ones((n1,n2))\n",
    "print(\"Original Matrix \")\n",
    "print(aw)\n",
    "print(\"Modified Matrix \")\n",
    "aw[1:-1,1:-1]=0\n",
    "print(aw)"
   ]
  },
  {
   "cell_type": "code",
   "execution_count": 33,
   "metadata": {},
   "outputs": [
    {
     "data": {
      "text/plain": [
       "array([ True, False,  True, False, False])"
      ]
     },
     "execution_count": 33,
     "metadata": {},
     "output_type": "execute_result"
    }
   ],
   "source": [
    "#3.Write a NumPy program to test whether each element of a 1-D array is also present in a second array.\n",
    "import numpy as y\n",
    "y.in1d([0,10,20,40,60],[0,20])"
   ]
  },
  {
   "cell_type": "code",
   "execution_count": 39,
   "metadata": {},
   "outputs": [
    {
     "data": {
      "text/plain": [
       "array([ 0, 20, 60, 80])"
      ]
     },
     "execution_count": 39,
     "metadata": {},
     "output_type": "execute_result"
    }
   ],
   "source": [
    "#4.Write a NumPy program to find the set difference of two arrays. The set difference will return the sorted, unique values in array1 that are not in array2.\n",
    "import numpy as y\n",
    "y.setdiff1d([ 0,10,20,40,60,80]\n",
    ",[10, 30, 40, 50, 70, 90] )"
   ]
  },
  {
   "cell_type": "code",
   "execution_count": 70,
   "metadata": {},
   "outputs": [
    {
     "name": "stdout",
     "output_type": "stream",
     "text": [
      "Original Matrix \n",
      "[[0. 0. 0. 0.]\n",
      " [0. 0. 0. 0.]\n",
      " [0. 0. 0. 0.]\n",
      " [0. 0. 0. 0.]]\n",
      "Modified Matrix \n"
     ]
    },
    {
     "data": {
      "text/plain": [
       "array([[4., 0., 0., 0.],\n",
       "       [0., 5., 0., 0.],\n",
       "       [0., 0., 6., 0.],\n",
       "       [0., 0., 0., 8.]])"
      ]
     },
     "execution_count": 70,
     "metadata": {},
     "output_type": "execute_result"
    }
   ],
   "source": [
    "#5.Write a NumPy program to create a 2-D array whose diagonal equals [4, 5, 6, 8] and 0's elsewhere.\n",
    "import numpy as x\n",
    "a = np.zeros((4,4))\n",
    "print(\"Original Matrix \")\n",
    "print(a)\n",
    "print(\"Modified Matrix \")\n",
    "x.fill_diagonal(a, [4, 5, 6, 8])\n",
    "a"
   ]
  }
 ],
 "metadata": {
  "kernelspec": {
   "display_name": "Python 3",
   "language": "python",
   "name": "python3"
  },
  "language_info": {
   "codemirror_mode": {
    "name": "ipython",
    "version": 3
   },
   "file_extension": ".py",
   "mimetype": "text/x-python",
   "name": "python",
   "nbconvert_exporter": "python",
   "pygments_lexer": "ipython3",
   "version": "3.7.6"
  }
 },
 "nbformat": 4,
 "nbformat_minor": 4
}
