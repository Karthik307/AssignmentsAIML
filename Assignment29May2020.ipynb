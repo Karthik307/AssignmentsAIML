{
 "cells": [
  {
   "cell_type": "code",
   "execution_count": 14,
   "metadata": {},
   "outputs": [
    {
     "name": "stdout",
     "output_type": "stream",
     "text": [
      "Enter a number: 10\n",
      "Factorial is 3628800\n"
     ]
    }
   ],
   "source": [
    "#1.Create a function to find Factorial of a number using Recursion\n",
    "def fact(n):  \n",
    "   if n == 1:  \n",
    "       return n  \n",
    "   else:  \n",
    "       return n*fact(n-1)   \n",
    "num = int(input(\"Enter a number: \"))  \n",
    "if num < 0:  \n",
    "   print(\"Invalid Input\")  \n",
    "else:  \n",
    "   print(\"Factorial is\",fact(num))  "
   ]
  },
  {
   "cell_type": "code",
   "execution_count": 26,
   "metadata": {},
   "outputs": [
    {
     "name": "stdout",
     "output_type": "stream",
     "text": [
      "Enter n value: 5\n",
      "0,1,1,2,3,"
     ]
    }
   ],
   "source": [
    "#2.Create a function and display ‘n’ Fibonacci numbers using Recursion\n",
    "def fiba(x):\n",
    "    if(x<=1):\n",
    "        return x\n",
    "    else:\n",
    "        return fiba(x-1)+fiba(x-2)\n",
    "n=int(input(\"Enter n value: \"))\n",
    "if(n<=0):\n",
    "    print(\"Invalid option\")\n",
    "else:\n",
    "    for z in range(n):\n",
    "        print(fiba(z),end=\",\")"
   ]
  },
  {
   "cell_type": "code",
   "execution_count": 27,
   "metadata": {},
   "outputs": [
    {
     "name": "stdout",
     "output_type": "stream",
     "text": [
      "no ofelements 3\n",
      "enter values 1\n",
      "enter values 2\n",
      "enter values 5\n",
      "sum of all elements is :  8\n"
     ]
    }
   ],
   "source": [
    "#Print sum of list of elements without using sum() function\n",
    "num= []\n",
    "total = 0\n",
    "j = 0\n",
    "n = int(input(\"no ofelements \"))\n",
    "for i in range(1, n + 1):\n",
    "    value = int(input(\"enter values \" ))\n",
    "    num.append(value)\n",
    "\n",
    "while(j < n):\n",
    "    total = total + num[j]\n",
    "    j = j + 1\n",
    "print(\"sum of all elements is : \", total)"
   ]
  },
  {
   "cell_type": "code",
   "execution_count": 28,
   "metadata": {},
   "outputs": [
    {
     "name": "stdout",
     "output_type": "stream",
     "text": [
      "total number of elements : 5\n",
      "values are: 1\n",
      "values are: 2\n",
      "values are: 3\n",
      "values are: 4\n",
      "values are: 5\n",
      "\n",
      "Even Numbers are\n",
      "2   4   "
     ]
    }
   ],
   "source": [
    "#print only even numbers from the list\n",
    "num = []\n",
    "n = int(input(\"total number of elements : \"))\n",
    "for i in range(1, n + 1):\n",
    "    value = int(input(\"values are: \" ))\n",
    "    num.append(value)\n",
    "print(\"\\nEven Numbers are\")\n",
    "for j in range(n):\n",
    "    if(num[j] % 2 == 0):\n",
    "        print(num[j], end = '   ')"
   ]
  },
  {
   "cell_type": "code",
   "execution_count": 29,
   "metadata": {},
   "outputs": [
    {
     "name": "stdout",
     "output_type": "stream",
     "text": [
      "2\n",
      "1\n"
     ]
    }
   ],
   "source": [
    "#Write a Python program to get the smallest number from a list and display index of smallest element of the list\n",
    "\n",
    "list=[2,3,1,4,5]\n",
    "print(list.index(min(list)))\n",
    "print(min(list))"
   ]
  },
  {
   "cell_type": "code",
   "execution_count": 30,
   "metadata": {},
   "outputs": [
    {
     "name": "stdout",
     "output_type": "stream",
     "text": [
      "Enter string: wow\n",
      "it is palindrome\n"
     ]
    }
   ],
   "source": [
    "#Write a Python function that checks whether a passed string is palindrome or not.\n",
    "def pal(s):\n",
    "    if len(s) < 1:\n",
    "        return True\n",
    "    else:\n",
    "        if s[0] == s[-1]:\n",
    "            return pal(s[1:-1])\n",
    "        else:\n",
    "            return False\n",
    "a=str(input(\"Enter string: \"))\n",
    "if(pal(a)==True):\n",
    "    print(\"it is palindrome\")\n",
    "else:\n",
    "    print(\"not a palindrome\")"
   ]
  },
  {
   "cell_type": "code",
   "execution_count": 31,
   "metadata": {},
   "outputs": [
    {
     "name": "stdout",
     "output_type": "stream",
     "text": [
      "total number of elements 5\n",
      "values are 1\n",
      "values are 2\n",
      "values are 3\n",
      "values are 4\n",
      "values are 5\n",
      "total odd numbers =   3\n",
      "total even numbers =  2\n"
     ]
    }
   ],
   "source": [
    "#Write a Python program to count the number of even and odd numbers from a series of numbers. \n",
    "\n",
    "num=[]\n",
    "ecount = 0\n",
    "ocount = 0\n",
    "n = int(input(\"total number of elements \"))\n",
    "for i in range(1, n+ 1):\n",
    "    value = int(input(\"values are \"))\n",
    "    num.append(value)\n",
    "for j in range(n):\n",
    "    if(num[j] % 2 == 0):\n",
    "        ecount = ecount + 1\n",
    "    else:\n",
    "        ocount = ocount + 1\n",
    "\n",
    "print(\"total odd numbers =  \", ocount)\n",
    "print(\"total even numbers = \", ecount)"
   ]
  },
  {
   "cell_type": "code",
   "execution_count": 32,
   "metadata": {},
   "outputs": [
    {
     "name": "stdout",
     "output_type": "stream",
     "text": [
      "0 1 2 4 5 "
     ]
    }
   ],
   "source": [
    "#Write a Python program that prints all the numbers from 0 to 6 except 3 and 6.\n",
    "\n",
    "for x in range(6):\n",
    "    if (x == 3 or x==6):\n",
    "        continue\n",
    "    print(x,end=' ')\n",
    "    "
   ]
  },
  {
   "cell_type": "code",
   "execution_count": 33,
   "metadata": {},
   "outputs": [
    {
     "name": "stdout",
     "output_type": "stream",
     "text": [
      "enter a number: 5\n",
      "prime number\n"
     ]
    }
   ],
   "source": [
    "#Write a python function to check whether the given number is prime or not\n",
    "\n",
    "num = int(input(\"enter a number: \"))\n",
    "for i in range(2, num):\n",
    "    if num % i  == 0:\n",
    "        print(\"not prime number\")\n",
    "        break\n",
    "else:\n",
    "    print(\"prime number\")"
   ]
  },
  {
   "cell_type": "code",
   "execution_count": 34,
   "metadata": {},
   "outputs": [
    {
     "name": "stdout",
     "output_type": "stream",
     "text": [
      "54\n",
      " is not a adam number\n"
     ]
    }
   ],
   "source": [
    "#Write a python function to check whether the given number is Adam number or not\n",
    "\n",
    "n =input()\n",
    "rev=n[::-1]\n",
    "nsquare=int(n)**2\n",
    "revsquare=int(rev )**2\n",
    "if int(nsquare )==int(str(revsquare)[::-1]):\n",
    "   print(\" is a adam number\")\n",
    "else:\n",
    "   print(\" is not a adam number\")"
   ]
  }
 ],
 "metadata": {
  "kernelspec": {
   "display_name": "Python 3",
   "language": "python",
   "name": "python3"
  },
  "language_info": {
   "codemirror_mode": {
    "name": "ipython",
    "version": 3
   },
   "file_extension": ".py",
   "mimetype": "text/x-python",
   "name": "python",
   "nbconvert_exporter": "python",
   "pygments_lexer": "ipython3",
   "version": "3.7.6"
  }
 },
 "nbformat": 4,
 "nbformat_minor": 4
}
