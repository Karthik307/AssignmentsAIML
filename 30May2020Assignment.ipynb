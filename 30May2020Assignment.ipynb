{
 "cells": [
  {
   "cell_type": "code",
   "execution_count": 5,
   "metadata": {},
   "outputs": [
    {
     "name": "stdout",
     "output_type": "stream",
     "text": [
      "Number of vowels are: 8\n",
      "Number of consonants are: 28\n",
      "Number of special characters are: 4\n"
     ]
    }
   ],
   "source": [
    "#1.Count the no.of words,no.of letters,no.of lines available in your file\n",
    "f=open('hello.txt','r')\n",
    "a=f.read()\n",
    "v=0\n",
    "c=0\n",
    "s=0\n",
    "for n in a:\n",
    "    if(n=='a'or n=='e'or n=='i'or n=='o'or n=='u'):\n",
    "        v+=1\n",
    "    elif(n=='@'or n=='_' or n=='!' or n=='#' or n=='$' or n=='%' or n=='^' or n=='&'or n=='*' or n=='(' or n==')'or n=='<' or n=='>' or n=='?' or n=='/'):\n",
    "        s+=1\n",
    "    else:\n",
    "        c+=1\n",
    "print(\"Number of vowels are:\",v,end=\"\\n\")\n",
    "print(\"Number of consonants are:\",c,end=\"\\n\")\n",
    "print(\"Number of special characters are:\",s,end=\"\\n\")"
   ]
  },
  {
   "cell_type": "code",
   "execution_count": 14,
   "metadata": {},
   "outputs": [
    {
     "name": "stdout",
     "output_type": "stream",
     "text": [
      "Copied file content:\n",
      "hello \n",
      "User using this 1st program.\n",
      "!@#$\n"
     ]
    }
   ],
   "source": [
    "#2.Copy the content of one file to another\n",
    "a = open('hello.txt', 'r') \n",
    "a1 = open('a.txt', 'w+') \n",
    "c = a.readlines() \n",
    "type(c) \n",
    "for i in range(0, len(c)): \n",
    "    a1.write(c[i]) \n",
    "a1.close()  \n",
    "print(\"Copied file content:\")\n",
    "a1 = open('a.txt', 'r')  \n",
    "c1 = a1.read() \n",
    "print(c1) \n",
    "a.close() \n",
    "a1.close()\n",
    "\n"
   ]
  },
  {
   "cell_type": "code",
   "execution_count": 33,
   "metadata": {},
   "outputs": [
    {
     "name": "stdout",
     "output_type": "stream",
     "text": [
      "please\n",
      "plug\n",
      "words with 'p' are:  2\n"
     ]
    }
   ],
   "source": [
    "#3.Display the words starting with letter 'p'\n",
    "c=[\"hello\",\"please\",\"plug\",\"your\",\"earphones\"]\n",
    "z=0\n",
    "type(c)\n",
    "for i in c:\n",
    "    if i.startswith(\"p\"):\n",
    "        z+=1\n",
    "        print(i)\n",
    "print(\"words with 'p' are: \",z)"
   ]
  },
  {
   "cell_type": "code",
   "execution_count": 50,
   "metadata": {},
   "outputs": [],
   "source": [
    "#4.Rename and remove files\n",
    "import os\n",
    "os.rename(\"untitled.txt\",\"titled.txt\") #renaming untitled.txt ----> titled.txt\n",
    "os.remove(\"titled.txt\") #deleting titled.txt"
   ]
  },
  {
   "cell_type": "code",
   "execution_count": 69,
   "metadata": {},
   "outputs": [
    {
     "name": "stdout",
     "output_type": "stream",
     "text": [
      "C:\\Users\\karthik\\Adv-prog\\Untitled Folder\n",
      "['.ipynb_checkpoints', '28may2020.ipynb', '29may2020.ipynb', '3.txt', '30May2020.ipynb', '30May2020Assignment.ipynb', 'a.txt', 'Assignment-28may2020.ipynb', 'Assignment29May2020.ipynb', 'h1.txt', 'hello.c', 'hello.txt']\n"
     ]
    }
   ],
   "source": [
    "#5.Create a folder,Goto that folder and create 5 no.of files,All the file names should be unique,Add some content into the file and the content in all the files should be unique,File size should be 512bit\n",
    "import os\n",
    "\n",
    "x=os.getcwd() #prints current working directory\n",
    "print(x)\n",
    "\n",
    "x=os.listdir() #prints list of files in directory\n",
    "print(x)\n",
    "\n",
    "#os.makedirs('con/A/B/C/D/E')-->works on normal IDLE\n",
    "#print(os.listdir())\n",
    "path = \"http://localhost:8888/tree/Adv-prog/Untitled%20Folder\"\n",
    "os.mkdir( path,512 );"
   ]
  }
 ],
 "metadata": {
  "kernelspec": {
   "display_name": "Python 3",
   "language": "python",
   "name": "python3"
  },
  "language_info": {
   "codemirror_mode": {
    "name": "ipython",
    "version": 3
   },
   "file_extension": ".py",
   "mimetype": "text/x-python",
   "name": "python",
   "nbconvert_exporter": "python",
   "pygments_lexer": "ipython3",
   "version": "3.7.6"
  }
 },
 "nbformat": 4,
 "nbformat_minor": 4
}
