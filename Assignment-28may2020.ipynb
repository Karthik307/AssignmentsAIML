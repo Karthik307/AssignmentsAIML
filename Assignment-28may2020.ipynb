{
 "cells": [
  {
   "cell_type": "code",
   "execution_count": 46,
   "metadata": {},
   "outputs": [
    {
     "name": "stdout",
     "output_type": "stream",
     "text": [
      "Enter a string: hello21#\n",
      "Number of vowels are: 2\n",
      "Number of consonants are: 5\n",
      "Number of consonants are: 1\n"
     ]
    }
   ],
   "source": [
    "#1.Accept a string from the user and count no.of vowels,consonants and special characters\n",
    "a=input(\"Enter a string: \")\n",
    "v=0\n",
    "c=0\n",
    "s=0\n",
    "for n in a:\n",
    "    if(n=='a'or n=='e'or n=='i'or n=='o'or n=='u'):\n",
    "        v+=1\n",
    "    elif(n=='@'or n=='_' or n=='!' or n=='#' or n=='$' or n=='%' or n=='^' or n=='&'or n=='*' or n=='(' or n==')'or n=='<' or n=='>' or n=='?' or n=='/'):\n",
    "        s+=1\n",
    "    else:\n",
    "        c+=1\n",
    "print(\"Number of vowels are:\",v,end=\"\\n\")\n",
    "print(\"Number of consonants are:\",c,end=\"\\n\")\n",
    "print(\"Number of consonants are:\",s,end=\"\\n\")"
   ]
  },
  {
   "cell_type": "code",
   "execution_count": 22,
   "metadata": {},
   "outputs": [
    {
     "name": "stdout",
     "output_type": "stream",
     "text": [
      "Enter a string: abbaaccbbaaa\n",
      "3\n"
     ]
    }
   ],
   "source": [
    "#2.count the no.of pairs of a in the given string(Infosys InfyTQ)\n",
    "a=input(\"Enter a string: \")\n",
    "n=len(a);\n",
    "c=0;\n",
    "for i in range (0,n-1):\n",
    "    if(a[i]==a[i+1] and a[i]=='a'):\n",
    "            c+=1\n",
    "print(c)"
   ]
  },
  {
   "cell_type": "code",
   "execution_count": 12,
   "metadata": {},
   "outputs": [
    {
     "name": "stdout",
     "output_type": "stream",
     "text": [
      "Enter string: ((((()()()))))()\n",
      "8\n"
     ]
    }
   ],
   "source": [
    "#3.  Test case1:string →  \"((((()()()))))()\" output →  8\n",
    "z=input(\"Enter string: \")\n",
    "n=len(z);\n",
    "c=0;\n",
    "for i in range(0,n-1):\n",
    "    if(z[i]=='('and z[i+1]==')'):\n",
    "        c+=1\n",
    "print(c*2)\n"
   ]
  },
  {
   "cell_type": "code",
   "execution_count": 4,
   "metadata": {},
   "outputs": [
    {
     "name": "stdout",
     "output_type": "stream",
     "text": [
      " Minimum Value : 1\n",
      " Maximum Value : 100\n",
      "18\n"
     ]
    }
   ],
   "source": [
    "#4.Read the input as two limits and Print the output as Palindrome count between the two limits\n",
    "v1 = int(input(\" Minimum Value : \"))\n",
    "v2 = int(input(\" Maximum Value : \"))\n",
    "c=0;\n",
    "for n in range(1, v2 + 1):\n",
    "    temp = n\n",
    "    r = 0\n",
    "    \n",
    "    while(temp > 0):\n",
    "        Reminder = temp % 10\n",
    "        r = (r * 10) + Reminder\n",
    "        temp = temp //10\n",
    "        if(n == r):\n",
    "            c+=1;\n",
    "print(c)"
   ]
  },
  {
   "cell_type": "code",
   "execution_count": 14,
   "metadata": {},
   "outputs": [
    {
     "name": "stdout",
     "output_type": "stream",
     "text": [
      "Enter a value:127\n",
      "palindrome\n"
     ]
    }
   ],
   "source": [
    "#5.Accept a number as an input and check whether the given number is palindrome or not\n",
    "a=int(input(\"Enter a value:\"))\n",
    "while True:\n",
    "    if str(a)==str(a)[::-1]:\n",
    "        print(\"palindrome\")\n",
    "        break;\n",
    "    else:\n",
    "        c=str(a)[::-1]\n",
    "        b=int(c)\n",
    "        a=b+a\n",
    "    \n",
    "       "
   ]
  },
  {
   "cell_type": "code",
   "execution_count": 20,
   "metadata": {},
   "outputs": [
    {
     "name": "stdout",
     "output_type": "stream",
     "text": [
      "enter stringorange\n",
      "puboif"
     ]
    }
   ],
   "source": [
    "#6. char increment\n",
    "s = str(input('enter string'))\n",
    "vowel = ['a','e','i','o','u']\n",
    "for i in s:\n",
    "    if i in vowel:\n",
    "        print(chr(ord(i)+1),end='')\n",
    "    elif (ord(i)>65 and ord(i)<69) or (ord(i)>97 and ord(i)<101):\n",
    "        print('e',end = \"\")\n",
    "    elif (ord(i)>69 and ord(i)<73) or (ord(i)>101 and ord(i)<105):\n",
    "        print('i',end = \"\")\n",
    "    elif (ord(i)>73 and ord(i)<79) or (ord(i)>105 and ord(i)<111):\n",
    "        print('o',end = \"\")\n",
    "    elif (ord(i)>79 and ord(i)<85) or (ord(i)>111 and ord(i)<117):\n",
    "        print('u',end = \"\")\n",
    "    elif (ord(i)>85 and ord(i)<90) or (ord(i)>117 and ord(i)<122):\n",
    "        print('a',end =\"\")"
   ]
  },
  {
   "cell_type": "code",
   "execution_count": 19,
   "metadata": {},
   "outputs": [
    {
     "name": "stdout",
     "output_type": "stream",
     "text": [
      "Enter a string:hello128to789\n",
      "35\n"
     ]
    }
   ],
   "source": [
    "#7.Accept input as a string and display sum of digits as the output \n",
    "s=input(\"Enter a string:\")\n",
    "a=0\n",
    "for i in s:\n",
    "    if i.isdigit()==True:\n",
    "        l=int(i)\n",
    "        a+=l\n",
    "print(a)"
   ]
  },
  {
   "cell_type": "code",
   "execution_count": 36,
   "metadata": {},
   "outputs": [
    {
     "name": "stdout",
     "output_type": "stream",
     "text": [
      "Enter 3 subjects marks:\n",
      "0.91 0.90 0.99\n",
      "Total marks are :  2.8\n",
      "0.9333333333333332\n",
      "A\n"
     ]
    }
   ],
   "source": [
    "#8.Write a program to prompt for a score between 0.0 and 1.0. If the score is out of range, print an error. If the score is between 0.0 and 1.0,\n",
    "print(\"Enter 3 subjects marks:\")\n",
    "sub1,sub2,sub3=map(float,input().split())\n",
    "tm=sub1+sub2+sub3\n",
    "print(\"Total marks are : \",tm)\n",
    "avg=float(tm/3)\n",
    "print(avg)\n",
    "if(avg>=0.9):\n",
    "    print(\"A\")\n",
    "elif(avg<0.9 and avg>=0.8):\n",
    "    print(\"B\")\n",
    "elif(avg<0.8 and avg>=0.7):\n",
    "    print(\"C\")\n",
    "elif(avg<0.7 and avg>=0.6):\n",
    "    print(\"D\") \n",
    "elif(avg<0.6):\n",
    "    print(\"F\")"
   ]
  },
  {
   "cell_type": "code",
   "execution_count": 42,
   "metadata": {},
   "outputs": [
    {
     "name": "stdout",
     "output_type": "stream",
     "text": [
      "0 FizzBuzz\n",
      "3 Fizz\n",
      "5 Buzz\n",
      "6 Fizz\n",
      "9 Fizz\n",
      "10 Buzz\n",
      "12 Fizz\n",
      "15 FizzBuzz\n",
      "18 Fizz\n",
      "20 Buzz\n",
      "21 Fizz\n",
      "24 Fizz\n",
      "25 Buzz\n",
      "27 Fizz\n",
      "30 FizzBuzz\n",
      "33 Fizz\n",
      "35 Buzz\n",
      "36 Fizz\n",
      "39 Fizz\n",
      "40 Buzz\n",
      "42 Fizz\n",
      "45 FizzBuzz\n",
      "48 Fizz\n",
      "50 Buzz\n"
     ]
    }
   ],
   "source": [
    "#9.Write a Python program which iterates the integers from 1 to 50. For multiples of three print \"Fizz\" instead of the number and for the multiples of five print \"Buzz\". For numbers which are multiples of both three and five print \"FizzBuzz\".\n",
    "for i in range(0,51):\n",
    "    if(i%3==0 and i%5==0):\n",
    "        print(i,\"FizzBuzz\")\n",
    "        continue\n",
    "    elif(i%5==0):\n",
    "        print(i,\"Buzz\")\n",
    "        continue\n",
    "    elif(i%3==0):\n",
    "        print(i,\"Fizz\")\n",
    "        continue"
   ]
  },
  {
   "cell_type": "code",
   "execution_count": 9,
   "metadata": {},
   "outputs": [
    {
     "name": "stdout",
     "output_type": "stream",
     "text": [
      "Enter number of values: 3\n",
      "Enter  3  numbers:\n",
      "26\n",
      "15\n",
      "29\n",
      "sorted list is [15, 26, 29]\n",
      "median is 26\n"
     ]
    }
   ],
   "source": [
    "#10.Write a Python program to find the median of three values.\n",
    "#median=(n+1)/2;\n",
    "va=[]\n",
    "n=int(input(\"Enter number of values: \"))\n",
    "print(\"Enter \",n,\" numbers:\")\n",
    "for i in range(0,n):\n",
    "    val = int(input()) \n",
    "    va.append(val)\n",
    "va.sort() \n",
    "m=int((n+1)/2)\n",
    "print(\"sorted list is\",va)\n",
    "print(\"median is\",va[m-1])"
   ]
  }
 ],
 "metadata": {
  "kernelspec": {
   "display_name": "Python 3",
   "language": "python",
   "name": "python3"
  },
  "language_info": {
   "codemirror_mode": {
    "name": "ipython",
    "version": 3
   },
   "file_extension": ".py",
   "mimetype": "text/x-python",
   "name": "python",
   "nbconvert_exporter": "python",
   "pygments_lexer": "ipython3",
   "version": "3.7.6"
  }
 },
 "nbformat": 4,
 "nbformat_minor": 4
}
