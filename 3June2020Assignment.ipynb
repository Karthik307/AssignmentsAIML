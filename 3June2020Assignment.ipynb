{
 "cells": [
  {
   "cell_type": "markdown",
   "metadata": {},
   "source": [
    "# Assignment 3 June"
   ]
  },
  {
   "cell_type": "markdown",
   "metadata": {},
   "source": [
    "## 1.Copy the contents of a text file into another, printing the reversed version of each input line\n"
   ]
  },
  {
   "cell_type": "code",
   "execution_count": 2,
   "metadata": {},
   "outputs": [],
   "source": [
    "file=open(\"a1.txt\",'w')\n",
    "file.write('hello')\n",
    "file.write(\"\\n\")\n",
    "file.write('user')\n",
    "file.write(\"\\n\")\n",
    "file.write('this text is reversed ?')\n",
    "file.write(\"\\n\")\n",
    "file.close()\n"
   ]
  },
  {
   "cell_type": "code",
   "execution_count": 8,
   "metadata": {},
   "outputs": [],
   "source": [
    "file = open(\"a2.txt\", \"w\") \n",
    "with open(\"a1.txt\", \"r\") as myfile: \n",
    "    data = myfile.read() \n",
    "data_1 = data[::-1] \n",
    "file.write(data_1) \n",
    "file.close() \n"
   ]
  },
  {
   "cell_type": "markdown",
   "metadata": {},
   "source": [
    "## 2.Print the contents of a file line by line putting a line number for each line.\n"
   ]
  },
  {
   "cell_type": "code",
   "execution_count": 3,
   "metadata": {},
   "outputs": [
    {
     "name": "stdout",
     "output_type": "stream",
     "text": [
      "1 . hello \n",
      "\n",
      "2 . User using this 1st program.\n",
      "\n",
      "3 . !@#$\n"
     ]
    }
   ],
   "source": [
    "f=open('a.txt','r')\n",
    "i=1\n",
    "for l in f:\n",
    "    print(i,'.',l)\n",
    "    i+=1"
   ]
  },
  {
   "cell_type": "markdown",
   "metadata": {},
   "source": [
    "## 3.Avoiding Duplicates"
   ]
  },
  {
   "cell_type": "code",
   "execution_count": 4,
   "metadata": {},
   "outputs": [
    {
     "name": "stdout",
     "output_type": "stream",
     "text": [
      "True\n",
      "[5, 6, 7, 1]\n"
     ]
    }
   ],
   "source": [
    "#to find duplicates in list\n",
    "def dupli(list1):\n",
    "    for i in list1:\n",
    "        if(list1.count(i)>1):\n",
    "            return True\n",
    "            break\n",
    "        else:\n",
    "            continue\n",
    "    return False\n",
    "def deleted(s):\n",
    "    for i in list1:\n",
    "        if i not in list2:\n",
    "            list2.append(i)\n",
    "    return list2\n",
    "list1 = [5,6,5,7,6,1]\n",
    "list2= []\n",
    "s = (dupli(list1))\n",
    "print(s)\n",
    "if(s == True):\n",
    "    print(deleted(list1))"
   ]
  },
  {
   "cell_type": "markdown",
   "metadata": {},
   "source": [
    "## 4.Fraction defined"
   ]
  },
  {
   "cell_type": "code",
   "execution_count": 6,
   "metadata": {},
   "outputs": [
    {
     "name": "stdout",
     "output_type": "stream",
     "text": [
      "Fraction is:  0.4\n",
      "Addition:  0.7\n",
      "subtraction:  0.16666666666666669\n",
      "Multiplication:  0.19999999999999998\n",
      "Division:  0.8333333333333333\n"
     ]
    }
   ],
   "source": [
    "#fraction user defined\n",
    "#def fr(a,b):\n",
    "#    c=a/b\n",
    "#    print('Fraction is: ',c)\n",
    "#def add(a1,b1,c1,d1):\n",
    "#    e1=a1/b1\n",
    "#    f1=c1/d1\n",
    "#    print('Addition: ',e1+f1)\n",
    "#def sub(a2,b2,c2,d2):\n",
    "#    e2=a2/b2\n",
    "#    f2=c2/d2\n",
    "#    print('subtraction: ',e2-f2)\n",
    "#def mul(a3,b3,c3,d3):\n",
    "#    e3=a3/b3\n",
    "#    f3=c3/d3\n",
    "#    print('Multiplication: ',e3*f3)\n",
    "#def div(a4,b4,c4,d4):\n",
    "#    e4=a4/b4\n",
    "#    f4=c4/d4\n",
    "#    print('Division: ',e4/f4)\n",
    "\n",
    "import fra as f\n",
    "f.fr(2,5)\n",
    "f.add(1,10,3,5)\n",
    "f.sub(5,10,1,3)\n",
    "f.mul(3,5,1,3)\n",
    "f.div(2,7,12,35)"
   ]
  },
  {
   "cell_type": "markdown",
   "metadata": {},
   "source": [
    "# 5."
   ]
  },
  {
   "cell_type": "code",
   "execution_count": 16,
   "metadata": {},
   "outputs": [],
   "source": [
    "def perm(list1,list2):\n",
    "    a = sum(list1)\n",
    "    b = sum(list2)\n",
    "    if a == b:\n",
    "        return True\n",
    "    else:\n",
    "        return False\n",
    "list1 = [1,2,1]\n",
    "list2 = [1,1,2]"
   ]
  },
  {
   "cell_type": "code",
   "execution_count": 17,
   "metadata": {},
   "outputs": [
    {
     "data": {
      "text/plain": [
       "True"
      ]
     },
     "execution_count": 17,
     "metadata": {},
     "output_type": "execute_result"
    }
   ],
   "source": [
    "perm(list1,list2)"
   ]
  }
 ],
 "metadata": {
  "kernelspec": {
   "display_name": "Python 3",
   "language": "python",
   "name": "python3"
  },
  "language_info": {
   "codemirror_mode": {
    "name": "ipython",
    "version": 3
   },
   "file_extension": ".py",
   "mimetype": "text/x-python",
   "name": "python",
   "nbconvert_exporter": "python",
   "pygments_lexer": "ipython3",
   "version": "3.7.6"
  }
 },
 "nbformat": 4,
 "nbformat_minor": 4
}
