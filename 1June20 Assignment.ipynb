{
 "cells": [
  {
   "cell_type": "markdown",
   "metadata": {},
   "source": [
    "# Assignment \n"
   ]
  },
  {
   "cell_type": "code",
   "execution_count": 16,
   "metadata": {},
   "outputs": [
    {
     "name": "stdout",
     "output_type": "stream",
     "text": [
      "kimship49@\n"
     ]
    }
   ],
   "source": [
    "#password generator\n",
    "import string\n",
    "import random\n",
    "verb=[\"hello\",\"hyder\",\"python\",\"mally\",\"adam\",\"kim\",\"john\"]\n",
    "noun=[\"cat\", \"sock\", \"ship\", \"hero\", \"monkey\", \"baby\", \"match\"]\n",
    "n=random.randint(0,50)\n",
    "z=random.choice(string.punctuation)\n",
    "a=random.choice(verb)\n",
    "b=random.choice(noun)\n",
    "print(a+b+str(n)+str(z))"
   ]
  }
 ],
 "metadata": {
  "kernelspec": {
   "display_name": "Python 3",
   "language": "python",
   "name": "python3"
  },
  "language_info": {
   "codemirror_mode": {
    "name": "ipython",
    "version": 3
   },
   "file_extension": ".py",
   "mimetype": "text/x-python",
   "name": "python",
   "nbconvert_exporter": "python",
   "pygments_lexer": "ipython3",
   "version": "3.7.6"
  }
 },
 "nbformat": 4,
 "nbformat_minor": 4
}
