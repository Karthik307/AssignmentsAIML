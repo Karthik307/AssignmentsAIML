{
 "cells": [
  {
   "cell_type": "markdown",
   "metadata": {},
   "source": [
    "# Assignment \n"
   ]
  },
  {
   "cell_type": "code",
   "execution_count": 2,
   "metadata": {},
   "outputs": [
    {
     "name": "stdout",
     "output_type": "stream",
     "text": [
      "Passord Generator\n",
      "adamship18]\n",
      "Generate another password ? yes\n",
      "johnhero49^\n",
      "Generate another password ? yes\n",
      "johnmonkey24}\n",
      "Generate another password ? yes\n",
      "mallymatch24_\n",
      "Generate another password ? yes\n",
      "johnhero5?\n",
      "Generate another password ? no\n"
     ]
    }
   ],
   "source": [
    "#password generator\n",
    "import string\n",
    "import random\n",
    "def pas1():\n",
    "    verb=[\"hello\",\"hyder\",\"python\",\"mally\",\"adam\",\"kim\",\"john\"]\n",
    "    noun=[\"cat\", \"sock\", \"ship\", \"hero\", \"monkey\", \"baby\", \"match\"]\n",
    "    n=random.randint(0,50)\n",
    "    z=random.choice(string.punctuation)\n",
    "    a=random.choice(verb)\n",
    "    b=random.choice(noun)\n",
    "    y=(a+b+str(n)+str(z))\n",
    "    print(y)\n",
    "print(\"Passord Generator\")\n",
    "pas1()\n",
    "ui=0\n",
    "while ui==0:\n",
    "    i=input(\"Generate another password ? \")\n",
    "    if i=='yes':\n",
    "        pas1()\n",
    "    else:\n",
    "        ui==1\n",
    "        break"
   ]
  }
 ],
 "metadata": {
  "kernelspec": {
   "display_name": "Python 3",
   "language": "python",
   "name": "python3"
  },
  "language_info": {
   "codemirror_mode": {
    "name": "ipython",
    "version": 3
   },
   "file_extension": ".py",
   "mimetype": "text/x-python",
   "name": "python",
   "nbconvert_exporter": "python",
   "pygments_lexer": "ipython3",
   "version": "3.7.6"
  }
 },
 "nbformat": 4,
 "nbformat_minor": 4
}
