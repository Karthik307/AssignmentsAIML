{
 "cells": [
  {
   "cell_type": "markdown",
   "metadata": {},
   "source": [
    "# Nine lives"
   ]
  },
  {
   "cell_type": "code",
   "execution_count": null,
   "metadata": {
    "scrolled": true
   },
   "outputs": [],
   "source": [
    "def guess():\n",
    "      key='pizza'\n",
    "      if z==key:\n",
    "            print(\"You Won!\")\n",
    "            exit()\n",
    "      while z!=key:\n",
    "            print(\"wrong guess: \")\n",
    "            print(\"lives remaining: \")\n",
    "            n=9\n",
    "            l1=['*']*9\n",
    "            l1.pop()\n",
    "            print(l1)\n",
    "            x=input(\"Enter new guess: \")\n",
    "            if x==key:\n",
    "                print(\"You Won!\")\n",
    "                exit()\n",
    "            else:\n",
    "                \n",
    "           # for i in range(n,0,-1):\n",
    "                  #print(i,end=\" \")\n",
    "                  \n",
    "while True:\n",
    "      print(\"\\n\")\n",
    "      z=input(\"Guess the word: \")\n",
    "      guess()\n"
   ]
  },
  {
   "cell_type": "code",
   "execution_count": 1,
   "metadata": {},
   "outputs": [
    {
     "name": "stdout",
     "output_type": "stream",
     "text": [
      "pizza\n",
      "Enter a letter or word:lol\n",
      "you have still  8  chances\n",
      "Enter a letter or word:asx\n",
      "you have still  7  chances\n",
      "Enter a letter or word:asxca\n",
      "you have still  6  chances\n",
      "Enter a letter or word:p\n",
      "['p', '❤️', '❤️', '❤️', '❤️', '❤️', '❤️', '❤️', '❤️']\n",
      "Enter a letter or word:i\n",
      "['p', 'i', '❤️', '❤️', '❤️', '❤️', '❤️', '❤️', '❤️']\n",
      "Enter a letter or word:z\n",
      "['p', 'i', 'z', '❤️', '❤️', '❤️', '❤️', '❤️', '❤️']\n",
      "Enter a letter or word:z\n",
      "['p', 'i', 'z', 'z', '❤️', '❤️', '❤️', '❤️', '❤️']\n",
      "Enter a letter or word:a\n",
      "['p', 'i', 'z', 'z', 'a', '❤️', '❤️', '❤️', '❤️']\n",
      "You won congrats\n",
      " the word is  pizza\n"
     ]
    }
   ],
   "source": [
    "#Nine lives\n",
    "import random\n",
    "list1=[\"pizza\",\"burger\",\"icecream\",\"hat\",\"hot\"] \n",
    "word = random.choice(list1)\n",
    "result=['❤️']*9\n",
    "lives=9 \n",
    "c=0\n",
    "s=0\n",
    "word1=word\n",
    "print(word1)\n",
    "def chang(word):\n",
    "    return list(word)\n",
    "while(lives>0):\n",
    "    ans=input(\"Enter a letter or word:\")\n",
    "    if(len(ans)>1):\n",
    "        if word1==ans:\n",
    "            print(\"You won congrats\\n the word is \",word)\n",
    "            break\n",
    "        else:\n",
    "            lives=lives-1\n",
    "            print(\"you have still \",lives,\" chances\")\n",
    "    else:\n",
    "        for i in word:\n",
    "            if(ans==i):\n",
    "                c+=1\n",
    "                s+=1\n",
    "                r1=word.index(i)\n",
    "                break\n",
    "        if s==0:\n",
    "            lives=lives-1\n",
    "            print(\"you have still \",lives,\" chances\")\n",
    "            print(result)\n",
    "        else:\n",
    "            result.pop(r1)\n",
    "            word=word.replace(word[r1],\"1\",1)\n",
    "            result.insert(r1,ans)\n",
    "            s=0\n",
    "            print(result)\n",
    "    if(c==5):\n",
    "        print(\"You won congrats\\n the word is \",word1)\n",
    "        break\n",
    "if(lives==0):\n",
    "    print(\"You have lost the game\")"
   ]
  }
 ],
 "metadata": {
  "kernelspec": {
   "display_name": "Python 3",
   "language": "python",
   "name": "python3"
  },
  "language_info": {
   "codemirror_mode": {
    "name": "ipython",
    "version": 3
   },
   "file_extension": ".py",
   "mimetype": "text/x-python",
   "name": "python",
   "nbconvert_exporter": "python",
   "pygments_lexer": "ipython3",
   "version": "3.7.6"
  }
 },
 "nbformat": 4,
 "nbformat_minor": 4
}
